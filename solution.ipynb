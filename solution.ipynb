{
 "cells": [
  {
   "cell_type": "markdown",
   "source": [
    "# 输入特征\n",
    "\n",
    "5-day 自回归\n",
    "\n",
    "# 特征建模\n",
    "\n",
    "[开盘价，最高价-开盘价，最低价-开盘价，收盘价-开盘价，交易量]\n",
    "\n",
    "## 纳斯达克指数数据解释\n",
    "Date: 2015-01-02，表示交易日期。\n",
    "Ticker: IXIC，代表纳斯达克综合指数。\n",
    "Open: 4760.240234375，开盘价。\n",
    "High: 4777.009765625，当天最高价。\n",
    "Low: 4698.10986328125，当天最低价。\n",
    "Close: 4726.81005859375，收盘价。\n",
    "Adjusted: 4726.81005859375，调整后的收盘价（考虑分红、拆股等因素）。\n",
    "Returns: nan，收益率（此处为缺失值）。\n",
    "Volume: 1435150000，交易量。\n",
    "## 苹果公司股票数据解释\n",
    "Date: 2015-01-05，交易日期。\n",
    "Ticker: AAPL，代表苹果公司。\n",
    "Open: 27.07250022888184，开盘价。\n",
    "High: 27.162500381469727，当天最高价。\n",
    "Low: 26.352500915527344，当天最低价。\n",
    "Close: 26.5625，收盘价。\n",
    "Adjusted: 23.63528251647949，调整后的收盘价。\n",
    "Returns: -0.0281718672358495，收益率（表示相对于前一日的涨跌比率）。\n",
    "Volume: 257142000，交易量。"
   ],
   "metadata": {
    "collapsed": false
   },
   "id": "3c6a637fa731b13d"
  },
  {
   "cell_type": "markdown",
   "source": [
    "# 创建模型"
   ],
   "metadata": {
    "collapsed": false
   },
   "id": "238ba4a93273edfe"
  },
  {
   "cell_type": "code",
   "outputs": [],
   "source": [
    "from deeplotx import AutoRegression\n",
    "model = AutoRegression(feature_dim=5, hidden_dim=128, recursive_layers=2)"
   ],
   "metadata": {
    "collapsed": false,
    "ExecuteTime": {
     "end_time": "2025-05-11T10:51:59.753983Z",
     "start_time": "2025-05-11T10:51:59.738768Z"
    }
   },
   "id": "438e21a606119ca",
   "execution_count": 2
  },
  {
   "cell_type": "markdown",
   "source": [
    "# 选择数据集"
   ],
   "metadata": {
    "collapsed": false
   },
   "id": "450a8a2085b87ee7"
  },
  {
   "cell_type": "code",
   "outputs": [
    {
     "name": "stdout",
     "output_type": "stream",
     "text": [
      "Tickers:  ['DJI', 'IXIC', 'GSPC', 'AAPL', 'ABBV', 'AXP', 'BA', 'BOOT', 'CALM', 'CAT', 'CL', 'CSCO', 'CVX', 'DD', 'DENN', 'DIS', 'F', 'GE', 'GM', 'GS', 'HON', 'IBM', 'INTC', 'IP', 'JNJ', 'JPM', 'KO', 'LMT', 'MA', 'MCD', 'MG', 'MMM', 'MS', 'MSFT', 'NKE', 'PEP', 'PFE', 'PG', 'RTX', 'SO', 'T', 'TDW', 'V', 'VZ', 'WFC', 'WMT', 'XELB', 'XOM']\n"
     ]
    }
   ],
   "source": [
    "from data_preprocess import get_dataset\n",
    "batch_size = 16\n",
    "train_loader, valid_loader = get_dataset('AAPL', batch_size=batch_size)"
   ],
   "metadata": {
    "collapsed": false,
    "ExecuteTime": {
     "end_time": "2025-05-11T10:52:04.339665Z",
     "start_time": "2025-05-11T10:52:01.748617Z"
    }
   },
   "id": "3faffe973982abc3",
   "execution_count": 3
  },
  {
   "cell_type": "markdown",
   "source": [
    "# 训练模型"
   ],
   "metadata": {
    "collapsed": false
   },
   "id": "7e70fa833b4c56f5"
  },
  {
   "cell_type": "code",
   "outputs": [
    {
     "name": "stdout",
     "output_type": "stream",
     "text": [
      "Epoch 1/10 | Train Loss: 570609739428265984.0000 | Valid Loss: 5498673488199680.0000\n",
      "Epoch 1/10 | Train Loss: 570609739428265984.0000\n",
      "Epoch 2/10 | Train Loss: 570859180794052608.0000\n",
      "Epoch 3/10 | Train Loss: 570735739675869184.0000\n",
      "Epoch 4/10 | Train Loss: 570059619481681920.0000 | Valid Loss: 5247907393437696.0000\n",
      "Epoch 4/10 | Train Loss: 570059619481681920.0000\n",
      "Epoch 5/10 | Train Loss: 570450153610149888.0000\n",
      "Epoch 6/10 | Train Loss: 570235738507968512.0000\n",
      "Epoch 7/10 | Train Loss: 570840475943043072.0000 | Valid Loss: 5498975176097792.0000\n",
      "Epoch 7/10 | Train Loss: 570840475943043072.0000\n",
      "Epoch 8/10 | Train Loss: 570490088216068096.0000\n",
      "Epoch 9/10 | Train Loss: 570809418766090240.0000\n",
      "Epoch 10/10 | Train Loss: 569850391492034560.0000 | Valid Loss: 5500010363879424.0000\n",
      "Epoch 10/10 | Train Loss: 569850391492034560.0000\n"
     ]
    }
   ],
   "source": [
    "import torch\n",
    "from torch import nn, optim\n",
    "\n",
    "num_epochs = 10\n",
    "elastic_net_param = {'alpha': 1e-4, 'rho': 0.2}\n",
    "learning_rate = 2e-6\n",
    "train_loss_threshold = 0.\n",
    "valid_loss_threshold = 0.\n",
    "criterion = nn.MSELoss()\n",
    "optim = optim.Adam(model.parameters(), lr=learning_rate)\n",
    "\n",
    "for epoch in range(num_epochs):\n",
    "    model.train()\n",
    "    total_loss = 0.0\n",
    "    for batch_texts, batch_labels in train_loader:\n",
    "        if batch_texts.shape[0] != batch_size:\n",
    "            continue\n",
    "        outputs = model.forward(batch_texts, model.initial_state(batch_size=batch_size))[0]\n",
    "        loss = criterion(outputs, batch_labels) + model.elastic_net(alpha=elastic_net_param['alpha'], rho=elastic_net_param['rho'])\n",
    "        optim.zero_grad()\n",
    "        loss.backward()\n",
    "        optim.step()\n",
    "        total_loss += loss.item()\n",
    "    if epoch % 3 == 0:\n",
    "        total_valid_loss = 0.0\n",
    "        for batch_texts, batch_labels in valid_loader:\n",
    "            if batch_texts.shape[0] != batch_size:\n",
    "                continue\n",
    "            with torch.no_grad():\n",
    "                model.eval()\n",
    "                outputs = model.forward(batch_texts, model.initial_state(batch_size=batch_size))[0]\n",
    "                loss = criterion(outputs, batch_labels) + model.elastic_net(alpha=elastic_net_param['alpha'], rho=elastic_net_param['rho'])\n",
    "                total_valid_loss += loss.item()\n",
    "                model.train()\n",
    "        print(f\"Epoch {epoch + 1}/{num_epochs} | \"\n",
    "              f\"Train Loss: {total_loss:.4f} | \"\n",
    "              f\"Valid Loss: {total_valid_loss:.4f}\")\n",
    "        if total_valid_loss <= valid_loss_threshold:\n",
    "            break\n",
    "    print(f\"Epoch {epoch + 1}/{num_epochs} | Train Loss: {total_loss:.4f}\")\n",
    "    if total_loss <= train_loss_threshold:\n",
    "        break"
   ],
   "metadata": {
    "collapsed": false,
    "ExecuteTime": {
     "end_time": "2025-05-11T10:53:31.792033Z",
     "start_time": "2025-05-11T10:52:46.579444Z"
    }
   },
   "id": "61ee70038d86517f",
   "execution_count": 4
  },
  {
   "cell_type": "markdown",
   "source": [
    "# 模型测试"
   ],
   "metadata": {
    "collapsed": false
   },
   "id": "a468be5d76072825"
  },
  {
   "cell_type": "code",
   "outputs": [
    {
     "name": "stdout",
     "output_type": "stream",
     "text": [
      "Eval Loss: 516106744310857203712.0000\n"
     ]
    }
   ],
   "source": [
    "test_loader_large, test_loader_small = get_dataset('GSPC', batch_size=batch_size)\n",
    "total_eval_loss = 0.0\n",
    "for batch_texts, batch_labels in test_loader_large:\n",
    "    if batch_texts.shape[0] != batch_size:\n",
    "        continue\n",
    "    with torch.no_grad():\n",
    "        model.eval()\n",
    "        outputs = model.forward(batch_texts, model.initial_state(batch_size=batch_size))[0]\n",
    "        loss = criterion(outputs, batch_labels)\n",
    "        total_eval_loss += loss.item()\n",
    "        model.train()\n",
    "print(f\"Eval Loss: {total_eval_loss:.4f}\")"
   ],
   "metadata": {
    "collapsed": false,
    "ExecuteTime": {
     "end_time": "2025-05-11T11:09:37.917186Z",
     "start_time": "2025-05-11T11:09:37.233023Z"
    }
   },
   "id": "12f71529dbdf8d07",
   "execution_count": 6
  }
 ],
 "metadata": {
  "kernelspec": {
   "display_name": "Python 3",
   "language": "python",
   "name": "python3"
  },
  "language_info": {
   "codemirror_mode": {
    "name": "ipython",
    "version": 2
   },
   "file_extension": ".py",
   "mimetype": "text/x-python",
   "name": "python",
   "nbconvert_exporter": "python",
   "pygments_lexer": "ipython2",
   "version": "2.7.6"
  }
 },
 "nbformat": 4,
 "nbformat_minor": 5
}
