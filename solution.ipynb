{
 "cells": [
  {
   "cell_type": "markdown",
   "source": [
    "# 输入特征\n",
    "\n",
    "5-day 自回归\n",
    "\n",
    "# 特征建模\n",
    "\n",
    "[开盘价，最高价-开盘价，最低价-开盘价，收盘价-开盘价，交易量]\n",
    "\n",
    "## 纳斯达克指数数据解释\n",
    "Date: 2015-01-02，表示交易日期。\n",
    "Ticker: IXIC，代表纳斯达克综合指数。\n",
    "Open: 4760.240234375，开盘价。\n",
    "High: 4777.009765625，当天最高价。\n",
    "Low: 4698.10986328125，当天最低价。\n",
    "Close: 4726.81005859375，收盘价。\n",
    "Adjusted: 4726.81005859375，调整后的收盘价（考虑分红、拆股等因素）。\n",
    "Returns: nan，收益率（此处为缺失值）。\n",
    "Volume: 1435150000，交易量。\n",
    "## 苹果公司股票数据解释\n",
    "Date: 2015-01-05，交易日期。\n",
    "Ticker: AAPL，代表苹果公司。\n",
    "Open: 27.07250022888184，开盘价。\n",
    "High: 27.162500381469727，当天最高价。\n",
    "Low: 26.352500915527344，当天最低价。\n",
    "Close: 26.5625，收盘价。\n",
    "Adjusted: 23.63528251647949，调整后的收盘价。\n",
    "Returns: -0.0281718672358495，收益率（表示相对于前一日的涨跌比率）。\n",
    "Volume: 257142000，交易量。"
   ],
   "metadata": {
    "collapsed": false
   },
   "id": "3c6a637fa731b13d"
  },
  {
   "cell_type": "markdown",
   "source": [
    "# 创建模型"
   ],
   "metadata": {
    "collapsed": false
   },
   "id": "238ba4a93273edfe"
  },
  {
   "cell_type": "code",
   "outputs": [],
   "source": [
    "from deeplotx import AutoRegression\n",
    "model = AutoRegression(feature_dim=5, hidden_dim=128, recursive_layers=2)"
   ],
   "metadata": {
    "collapsed": false,
    "ExecuteTime": {
     "end_time": "2025-05-11T10:43:54.303228Z",
     "start_time": "2025-05-11T10:43:43.005872Z"
    }
   },
   "id": "438e21a606119ca",
   "execution_count": 1
  },
  {
   "cell_type": "markdown",
   "source": [
    "# 选择数据集"
   ],
   "metadata": {
    "collapsed": false
   },
   "id": "450a8a2085b87ee7"
  },
  {
   "cell_type": "code",
   "outputs": [
    {
     "name": "stdout",
     "output_type": "stream",
     "text": [
      "torch.Size([16, 5, 5])\n",
      "torch.Size([16, 5, 5])\n",
      "torch.Size([16, 5, 5])\n",
      "torch.Size([16, 5, 5])\n",
      "torch.Size([16, 5, 5])\n",
      "torch.Size([16, 5, 5])\n",
      "torch.Size([16, 5, 5])\n",
      "torch.Size([16, 5, 5])\n",
      "torch.Size([16, 5, 5])\n",
      "torch.Size([16, 5, 5])\n",
      "torch.Size([16, 5, 5])\n",
      "torch.Size([16, 5, 5])\n",
      "torch.Size([16, 5, 5])\n",
      "torch.Size([16, 5, 5])\n",
      "torch.Size([16, 5, 5])\n",
      "torch.Size([16, 5, 5])\n",
      "torch.Size([16, 5, 5])\n",
      "torch.Size([16, 5, 5])\n",
      "torch.Size([16, 5, 5])\n",
      "torch.Size([16, 5, 5])\n",
      "torch.Size([16, 5, 5])\n",
      "torch.Size([16, 5, 5])\n",
      "torch.Size([16, 5, 5])\n",
      "torch.Size([16, 5, 5])\n",
      "torch.Size([16, 5, 5])\n",
      "torch.Size([16, 5, 5])\n",
      "torch.Size([16, 5, 5])\n",
      "torch.Size([16, 5, 5])\n",
      "torch.Size([16, 5, 5])\n",
      "torch.Size([16, 5, 5])\n",
      "torch.Size([16, 5, 5])\n",
      "torch.Size([16, 5, 5])\n",
      "torch.Size([16, 5, 5])\n",
      "torch.Size([16, 5, 5])\n",
      "torch.Size([16, 5, 5])\n",
      "torch.Size([16, 5, 5])\n",
      "torch.Size([16, 5, 5])\n",
      "torch.Size([16, 5, 5])\n",
      "torch.Size([16, 5, 5])\n",
      "torch.Size([16, 5, 5])\n",
      "torch.Size([16, 5, 5])\n",
      "torch.Size([16, 5, 5])\n",
      "torch.Size([16, 5, 5])\n",
      "torch.Size([16, 5, 5])\n",
      "torch.Size([16, 5, 5])\n",
      "torch.Size([16, 5, 5])\n",
      "torch.Size([16, 5, 5])\n",
      "torch.Size([16, 5, 5])\n",
      "torch.Size([16, 5, 5])\n",
      "torch.Size([16, 5, 5])\n",
      "torch.Size([16, 5, 5])\n",
      "torch.Size([16, 5, 5])\n",
      "torch.Size([16, 5, 5])\n",
      "torch.Size([16, 5, 5])\n",
      "torch.Size([16, 5, 5])\n",
      "torch.Size([16, 5, 5])\n",
      "torch.Size([16, 5, 5])\n",
      "torch.Size([16, 5, 5])\n",
      "torch.Size([16, 5, 5])\n",
      "torch.Size([16, 5, 5])\n",
      "torch.Size([16, 5, 5])\n",
      "torch.Size([16, 5, 5])\n",
      "torch.Size([16, 5, 5])\n",
      "torch.Size([16, 5, 5])\n",
      "torch.Size([16, 5, 5])\n",
      "torch.Size([16, 5, 5])\n",
      "torch.Size([16, 5, 5])\n",
      "torch.Size([16, 5, 5])\n",
      "torch.Size([16, 5, 5])\n",
      "torch.Size([16, 5, 5])\n",
      "torch.Size([16, 5, 5])\n",
      "torch.Size([16, 5, 5])\n",
      "torch.Size([16, 5, 5])\n",
      "torch.Size([16, 5, 5])\n",
      "torch.Size([16, 5, 5])\n",
      "torch.Size([16, 5, 5])\n",
      "torch.Size([16, 5, 5])\n",
      "torch.Size([16, 5, 5])\n",
      "torch.Size([16, 5, 5])\n",
      "torch.Size([16, 5, 5])\n",
      "torch.Size([16, 5, 5])\n",
      "torch.Size([16, 5, 5])\n",
      "torch.Size([16, 5, 5])\n",
      "torch.Size([16, 5, 5])\n",
      "torch.Size([16, 5, 5])\n",
      "torch.Size([16, 5, 5])\n",
      "torch.Size([16, 5, 5])\n",
      "torch.Size([16, 5, 5])\n",
      "torch.Size([16, 5, 5])\n",
      "torch.Size([16, 5, 5])\n",
      "torch.Size([16, 5, 5])\n",
      "torch.Size([16, 5, 5])\n",
      "torch.Size([16, 5, 5])\n",
      "torch.Size([16, 5, 5])\n",
      "torch.Size([16, 5, 5])\n",
      "torch.Size([16, 5, 5])\n",
      "torch.Size([16, 5, 5])\n",
      "torch.Size([16, 5, 5])\n",
      "torch.Size([16, 5, 5])\n",
      "torch.Size([16, 5, 5])\n",
      "torch.Size([16, 5, 5])\n",
      "torch.Size([16, 5, 5])\n",
      "torch.Size([16, 5, 5])\n",
      "torch.Size([16, 5, 5])\n",
      "torch.Size([16, 5, 5])\n",
      "torch.Size([16, 5, 5])\n",
      "torch.Size([16, 5, 5])\n",
      "torch.Size([16, 5, 5])\n",
      "torch.Size([16, 5, 5])\n",
      "torch.Size([16, 5, 5])\n",
      "torch.Size([16, 5, 5])\n",
      "torch.Size([16, 5, 5])\n",
      "torch.Size([16, 5, 5])\n",
      "torch.Size([16, 5, 5])\n",
      "torch.Size([16, 5, 5])\n",
      "torch.Size([16, 5, 5])\n",
      "torch.Size([16, 5, 5])\n",
      "torch.Size([16, 5, 5])\n",
      "torch.Size([16, 5, 5])\n",
      "torch.Size([16, 5, 5])\n",
      "torch.Size([16, 5, 5])\n",
      "torch.Size([16, 5, 5])\n",
      "torch.Size([16, 5, 5])\n",
      "torch.Size([16, 5, 5])\n",
      "torch.Size([16, 5, 5])\n",
      "torch.Size([16, 5, 5])\n",
      "torch.Size([16, 5, 5])\n",
      "torch.Size([16, 5, 5])\n",
      "torch.Size([16, 5, 5])\n",
      "torch.Size([16, 5, 5])\n",
      "torch.Size([16, 5, 5])\n",
      "torch.Size([16, 5, 5])\n",
      "torch.Size([16, 5, 5])\n",
      "torch.Size([16, 5, 5])\n",
      "torch.Size([16, 5, 5])\n",
      "torch.Size([16, 5, 5])\n",
      "torch.Size([16, 5, 5])\n",
      "torch.Size([16, 5, 5])\n",
      "torch.Size([16, 5, 5])\n",
      "torch.Size([16, 5, 5])\n",
      "torch.Size([16, 5, 5])\n",
      "torch.Size([16, 5, 5])\n",
      "torch.Size([16, 5, 5])\n",
      "torch.Size([16, 5, 5])\n",
      "torch.Size([16, 5, 5])\n",
      "torch.Size([16, 5, 5])\n",
      "torch.Size([16, 5, 5])\n",
      "torch.Size([16, 5, 5])\n",
      "torch.Size([16, 5, 5])\n",
      "torch.Size([16, 5, 5])\n",
      "torch.Size([16, 5, 5])\n",
      "torch.Size([16, 5, 5])\n",
      "torch.Size([3, 5, 5])\n"
     ]
    }
   ],
   "source": [
    "from data_preprocess import get_dataset\n",
    "batch_size = 16\n",
    "train_loader, valid_loader = get_dataset('AAPL', batch_size=batch_size)"
   ],
   "metadata": {
    "collapsed": false,
    "ExecuteTime": {
     "end_time": "2025-05-11T10:44:29.552229Z",
     "start_time": "2025-05-11T10:44:29.510576Z"
    }
   },
   "id": "3faffe973982abc3",
   "execution_count": 3
  },
  {
   "cell_type": "markdown",
   "source": [
    "# 训练模型"
   ],
   "metadata": {
    "collapsed": false
   },
   "id": "7e70fa833b4c56f5"
  },
  {
   "cell_type": "code",
   "outputs": [
    {
     "name": "stdout",
     "output_type": "stream",
     "text": [
      "Epoch 1/10 | Train Loss: 570447286316826624.0000 | Valid Loss: 5494616723816448.0000\n",
      "Epoch 1/10 | Train Loss: 570447286316826624.0000\n",
      "Epoch 2/10 | Train Loss: 570667785777053696.0000\n",
      "Epoch 3/10 | Train Loss: 569928934901153792.0000\n",
      "Epoch 4/10 | Train Loss: 570067484506324992.0000 | Valid Loss: 5454914817884160.0000\n",
      "Epoch 4/10 | Train Loss: 570067484506324992.0000\n",
      "Epoch 5/10 | Train Loss: 570442928669851648.0000\n",
      "Epoch 6/10 | Train Loss: 570787268546002944.0000\n",
      "Epoch 7/10 | Train Loss: 570351212059164672.0000 | Valid Loss: 5506235449212928.0000\n",
      "Epoch 7/10 | Train Loss: 570351212059164672.0000\n",
      "Epoch 8/10 | Train Loss: 570732516034478080.0000\n",
      "Epoch 9/10 | Train Loss: 569207127797661696.0000\n",
      "Epoch 10/10 | Train Loss: 570028575726501888.0000 | Valid Loss: 5418248547860480.0000\n",
      "Epoch 10/10 | Train Loss: 570028575726501888.0000\n"
     ]
    }
   ],
   "source": [
    "import torch\n",
    "from torch import nn, optim\n",
    "\n",
    "num_epochs = 10\n",
    "elastic_net_param = {'alpha': 1e-4, 'rho': 0.2}\n",
    "learning_rate = 2e-6\n",
    "train_loss_threshold = 0.\n",
    "valid_loss_threshold = 0.\n",
    "criterion = nn.MSELoss()\n",
    "optim = optim.Adam(model.parameters(), lr=learning_rate)\n",
    "\n",
    "for epoch in range(num_epochs):\n",
    "    model.train()\n",
    "    total_loss = 0.0\n",
    "    for batch_texts, batch_labels in train_loader:\n",
    "        if batch_texts.shape[0] != batch_size:\n",
    "            continue\n",
    "        outputs = model.forward(batch_texts, model.initial_state(batch_size=batch_size))[0]\n",
    "        loss = criterion(outputs, batch_labels) + model.elastic_net(alpha=elastic_net_param['alpha'], rho=elastic_net_param['rho'])\n",
    "        optim.zero_grad()\n",
    "        loss.backward()\n",
    "        optim.step()\n",
    "        total_loss += loss.item()\n",
    "    if epoch % 3 == 0:\n",
    "        total_valid_loss = 0.0\n",
    "        for batch_texts, batch_labels in valid_loader:\n",
    "            if batch_texts.shape[0] != batch_size:\n",
    "                continue\n",
    "            with torch.no_grad():\n",
    "                model.eval()\n",
    "                outputs = model.forward(batch_texts, model.initial_state(batch_size=batch_size))[0]\n",
    "                loss = criterion(outputs, batch_labels) + model.elastic_net(alpha=elastic_net_param['alpha'], rho=elastic_net_param['rho'])\n",
    "                total_valid_loss += loss.item()\n",
    "                model.train()\n",
    "        print(f\"Epoch {epoch + 1}/{num_epochs} | \"\n",
    "              f\"Train Loss: {total_loss:.4f} | \"\n",
    "              f\"Valid Loss: {total_valid_loss:.4f}\")\n",
    "        if total_valid_loss <= valid_loss_threshold:\n",
    "            break\n",
    "    print(f\"Epoch {epoch + 1}/{num_epochs} | Train Loss: {total_loss:.4f}\")\n",
    "    if total_loss <= train_loss_threshold:\n",
    "        break"
   ],
   "metadata": {
    "collapsed": false,
    "ExecuteTime": {
     "end_time": "2025-05-11T10:46:35.393041Z",
     "start_time": "2025-05-11T10:45:49.679256Z"
    }
   },
   "id": "61ee70038d86517f",
   "execution_count": 4
  }
 ],
 "metadata": {
  "kernelspec": {
   "display_name": "Python 3",
   "language": "python",
   "name": "python3"
  },
  "language_info": {
   "codemirror_mode": {
    "name": "ipython",
    "version": 2
   },
   "file_extension": ".py",
   "mimetype": "text/x-python",
   "name": "python",
   "nbconvert_exporter": "python",
   "pygments_lexer": "ipython2",
   "version": "2.7.6"
  }
 },
 "nbformat": 4,
 "nbformat_minor": 5
}
