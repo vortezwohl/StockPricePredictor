{
 "cells": [
  {
   "cell_type": "code",
   "execution_count": 1,
   "id": "initial_id",
   "metadata": {
    "collapsed": true,
    "ExecuteTime": {
     "end_time": "2025-05-11T08:09:23.978957Z",
     "start_time": "2025-05-11T08:09:21.874647Z"
    }
   },
   "outputs": [
    {
     "data": {
      "text/plain": "([('2015-01-02', 4726.81005859375),\n  ('2015-01-05', 4652.56982421875),\n  ('2015-01-06', 4592.740234375),\n  ('2015-01-07', 4650.47021484375),\n  ('2015-01-08', 4736.18994140625),\n  ('2015-01-09', 4704.06982421875),\n  ('2015-01-12', 4664.7099609375),\n  ('2015-01-13', 4661.5),\n  ('2015-01-14', 4639.31982421875),\n  ('2015-01-15', 4570.81982421875)],\n [('2015-01-05', 23.63528251647949),\n  ('2015-01-06', 23.63751220703125),\n  ('2015-01-07', 23.968963623046875),\n  ('2015-01-08', 24.8899040222168),\n  ('2015-01-09', 24.91659545898437),\n  ('2015-01-12', 24.302640914916992),\n  ('2015-01-13', 24.518415451049805),\n  ('2015-01-14', 24.42498588562012),\n  ('2015-01-15', 23.762081146240234),\n  ('2015-01-16', 23.57744789123535)])"
     },
     "execution_count": 1,
     "metadata": {},
     "output_type": "execute_result"
    }
   ],
   "source": [
    "from data_reader import *\n",
    "[(x['Date'], x['Adjusted']) for x in nasdaq[:10]], [(x['Date'], x['Adjusted']) for x in stockAAPL[:10]]"
   ]
  },
  {
   "cell_type": "markdown",
   "source": [
    "## 纳斯达克指数数据解释\n",
    "Date: 2015-01-02，表示交易日期。\n",
    "Ticker: IXIC，代表纳斯达克综合指数。\n",
    "Open: 4760.240234375，开盘价。\n",
    "High: 4777.009765625，当天最高价。\n",
    "Low: 4698.10986328125，当天最低价。\n",
    "Close: 4726.81005859375，收盘价。\n",
    "Adjusted: 4726.81005859375，调整后的收盘价（考虑分红、拆股等因素）。\n",
    "Returns: nan，收益率（此处为缺失值）。\n",
    "Volume: 1435150000，交易量。\n",
    "## 苹果公司股票数据解释\n",
    "Date: 2015-01-05，交易日期。\n",
    "Ticker: AAPL，代表苹果公司。\n",
    "Open: 27.07250022888184，开盘价。\n",
    "High: 27.162500381469727，当天最高价。\n",
    "Low: 26.352500915527344，当天最低价。\n",
    "Close: 26.5625，收盘价。\n",
    "Adjusted: 23.63528251647949，调整后的收盘价。\n",
    "Returns: -0.0281718672358495，收益率（表示相对于前一日的涨跌比率）。\n",
    "Volume: 257142000，交易量。"
   ],
   "metadata": {
    "collapsed": false
   },
   "id": "3c6a637fa731b13d"
  },
  {
   "cell_type": "markdown",
   "source": [
    "# 输入特征\n",
    "\n",
    "5-day 自回归\n",
    "\n",
    "# 特征建模\n",
    "\n",
    "[开盘价，最高价-开盘价，最低价-开盘价，收盘价-开盘价，交易量]"
   ],
   "metadata": {
    "collapsed": false
   },
   "id": "9580043db704110a"
  },
  {
   "cell_type": "code",
   "outputs": [],
   "source": [
    "from deeplotx import AutoRegression\n",
    "model = AutoRegression(feature_dim=5, hidden_dim=128, recursive_layers=2)"
   ],
   "metadata": {
    "collapsed": false
   },
   "id": "1a473852fcdbae8b",
   "execution_count": null
  },
  {
   "cell_type": "code",
   "outputs": [],
   "source": [
    "from torch import nn, optim\n",
    "num_epochs = 10\n",
    "learning_rate = 2e-6\n",
    "criterion = nn.MSELoss()\n",
    "optim = optim.Adam(model.parameters(), lr=learning_rate)\n"
   ],
   "metadata": {
    "collapsed": false
   },
   "id": "61ee70038d86517f"
  }
 ],
 "metadata": {
  "kernelspec": {
   "display_name": "Python 3",
   "language": "python",
   "name": "python3"
  },
  "language_info": {
   "codemirror_mode": {
    "name": "ipython",
    "version": 2
   },
   "file_extension": ".py",
   "mimetype": "text/x-python",
   "name": "python",
   "nbconvert_exporter": "python",
   "pygments_lexer": "ipython2",
   "version": "2.7.6"
  }
 },
 "nbformat": 4,
 "nbformat_minor": 5
}
